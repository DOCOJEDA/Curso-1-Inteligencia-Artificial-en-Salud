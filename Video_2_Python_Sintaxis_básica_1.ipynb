{
  "nbformat": 4,
  "nbformat_minor": 0,
  "metadata": {
    "colab": {
      "provenance": [],
      "authorship_tag": "ABX9TyOKMLQPF84tjtsk1t77S0lU",
      "include_colab_link": true
    },
    "kernelspec": {
      "name": "python3",
      "display_name": "Python 3"
    },
    "language_info": {
      "name": "python"
    }
  },
  "cells": [
    {
      "cell_type": "markdown",
      "metadata": {
        "id": "view-in-github",
        "colab_type": "text"
      },
      "source": [
        "<a href=\"https://colab.research.google.com/github/DOCOJEDA/Curso-1-Inteligencia-Artificial-en-Salud/blob/main/Video_2_Python_Sintaxis_b%C3%A1sica_1.ipynb\" target=\"_parent\"><img src=\"https://colab.research.google.com/assets/colab-badge.svg\" alt=\"Open In Colab\"/></a>"
      ]
    },
    {
      "cell_type": "markdown",
      "source": [
        "CURSO PYTHON PARA MEDICINA"
      ],
      "metadata": {
        "id": "M9QoNEZQZbMF"
      }
    },
    {
      "cell_type": "markdown",
      "source": [
        "**¿Qué es un programa?**  \n",
        "Un programa es un conjunto de instrucciones o pasos a seguir que se le dan a un ordenador de forma secuencial para que realice una tarea específica.\n",
        "\n",
        "El flujo normal de un programa es el siguiente:\n",
        "1.-El programa recibe datos de entrada, normalmente introducidos por los usuarios de este.\n",
        "2.-Ejecuta las instrucciones especificadas por el programador.\n",
        "3.-El programa obtiene como resultado un conjunto de datos de salida.\n",
        "\n",
        "Datos de entrada=>Programa=>datos de salida\n",
        "\n",
        "**¿Que es programar?**\n",
        "Es la accion de decirle a un ordenador exactamente lo que tiene que hacer y como lo tiene que hacer utilizando un lenguaje de programaciòn especitifico.\n",
        "\n",
        "Los lenguajes de programación permiten a los programadores transformar la idea que tienen del programa en un conjunto de instrucciones que el ordenador es capaz de ejecutar.\n",
        "\n",
        "**¿Que es python?**\n",
        "Python es un lenguaje de programacion que fue creado a finales de los años 80 por el holandés Guido van Rossum, fan del grupo humoristico Monty Python, de ahí el nombre que le puso al lenguaje de programación.\n",
        "\n",
        "\n",
        "\n"
      ],
      "metadata": {
        "id": "Yt600SFVZlls"
      }
    },
    {
      "cell_type": "code",
      "source": [
        "from IPython.display import Image\n",
        "\n",
        "# Mostrar la imagen de Guido van Rossum\n",
        "Image(url=\"https://cdn-blog.adafruit.com/uploads/2021/10/Untitled-14.jpg\")"
      ],
      "metadata": {
        "colab": {
          "base_uri": "https://localhost:8080/",
          "height": 271
        },
        "id": "zCjxsJuKetRh",
        "outputId": "8d4f7f01-3bc8-4176-fda9-fbb3ab5f84d3"
      },
      "execution_count": 5,
      "outputs": [
        {
          "output_type": "execute_result",
          "data": {
            "text/html": [
              "<img src=\"https://cdn-blog.adafruit.com/uploads/2021/10/Untitled-14.jpg\"/>"
            ],
            "text/plain": [
              "<IPython.core.display.Image object>"
            ]
          },
          "metadata": {},
          "execution_count": 5
        }
      ]
    },
    {
      "cell_type": "markdown",
      "source": [
        "# Las caracteristicas del lenguaje son las siguientes:"
      ],
      "metadata": {
        "id": "7sBor1INfNns"
      }
    },
    {
      "cell_type": "markdown",
      "source": [
        "**1.-Simplicidad:** ¡La gran fortaleza de python!\n",
        "\n",
        "**2.-Sintaxis clara:** la sintaxis de Python es muy clara, es obligatoria la utilización de la indentación en todo el código que se escribe. Gracias a estas caracteristica todos los programas escritos tienen la misma apariencia.  \n",
        "\n",
        "**3.-Propósito general:** Se pueden crear todo tipo de programas, incluyendo p´zaginas web.  \n",
        "\n",
        "**4.-Lenguaje interpretado:** Al ser un lenguaje interpretado no es necesario compilarlo, lo que te ahorrará tiempo a la hora de desarrollar. También implica que su ejecución sea más lenta, ya que los programas son ejecutados por el intérprete de Python en vez de ejecutados por la máquina donde lo arrancas.\n",
        "\n",
        "**5.-Lenguaje de alto nivel:** No es necesario que te preocupes de aspectos de bajo nivel como puede ser el manejo de la memoria del programa.  \n",
        "\n",
        "**6.-Lenguaje orientado a objetos:** Lenguaje construido sobre objetos que incorporan datos y funcionalidades.\n",
        "\n",
        "**7.-Open source:** Python ha sido portado a los diferentes sistemas operativos, por lo que puedes usarlo en el que más te guste. Otra caracteristica de ser Open Source es que es un lenguaje de programación gratuito.  \n",
        "\n",
        "**8.-Extensas librerias:** Facilitan la programación al incorporar mediante librerias una gran cantidad de funcionalidades.  \n",
        "**9.-Incrustable:** Es posible añadir programas escritos en Python a programas escritos en C y C++.  "
      ],
      "metadata": {
        "id": "guTJieYFetpH"
      }
    },
    {
      "cell_type": "markdown",
      "source": [
        "# **El ZEN de python:**"
      ],
      "metadata": {
        "id": "jsbCP2LmfWjH"
      }
    },
    {
      "cell_type": "markdown",
      "source": [
        "La filosofia del lenguaje python está plasmada en el documento escrito por Tim Peters en este link:\n",
        "https://www.cdc.gov/brfss/annual_data/annual_2014.html"
      ],
      "metadata": {
        "id": "igIbSQ8gfZuD"
      }
    },
    {
      "cell_type": "code",
      "source": [
        "# Mostrar la imagen de Guido van Rossum\n",
        "Image(url=\"https://i.ytimg.com/vi/B5S_1IhzyQ4/maxresdefault.jpg\")"
      ],
      "metadata": {
        "colab": {
          "base_uri": "https://localhost:8080/",
          "height": 761
        },
        "id": "kRFKgKAmgLug",
        "outputId": "cbf4cf85-fa6c-438b-eb48-b3cf7b00e989"
      },
      "execution_count": 9,
      "outputs": [
        {
          "output_type": "execute_result",
          "data": {
            "text/html": [
              "<img src=\"https://i.ytimg.com/vi/B5S_1IhzyQ4/maxresdefault.jpg\"/>"
            ],
            "text/plain": [
              "<IPython.core.display.Image object>"
            ]
          },
          "metadata": {},
          "execution_count": 9
        }
      ]
    },
    {
      "cell_type": "markdown",
      "source": [
        "# Mantras de Python:"
      ],
      "metadata": {
        "id": "a1H3j8kpdtqc"
      }
    },
    {
      "cell_type": "markdown",
      "source": [
        "**\"La legibilidad cuenta\":** Python se enorgullece de su legibilidad y simplicidad. Es importante escribir código Python claro y fácil de entender para ti y para otros desarrolladores que puedan leer o mantener tu código en el futuro.\n",
        "\n",
        "\n",
        "**\"Explícito es mejor que implícito\":** En Python, es mejor escribir código que sea explícito y claro en lugar de depender de trucos o atajos oscuros. La claridad del código es más importante que la concisión.\n",
        "\n",
        "\n",
        "**\"El zen de Python\":** El Zen de Python es un conjunto de principios que guían la filosofía de diseño de Python. Algunos de los principios del Zen de Python son: \"Hermoso es mejor que feo\", \"Simple es mejor que complejo\" y \"Lo explícito es mejor que lo implícito\". Puedes leer todos los principios del Zen de Python ejecutando import this en una consola de Python.\n",
        "\n",
        "\n",
        "**\"DRY (No te repitas)\":** Este principio de programación, también conocido como DRY, significa que no debes repetir código innecesariamente. En lugar de eso, utiliza funciones, clases o módulos para reutilizar código y mantener tu código limpio y eficiente.\n",
        "\n",
        "\n",
        "**\"Importa solo lo que necesitas\":** Python tiene una gran biblioteca estándar, pero eso no significa que debas importar todo en tu programa. Es mejor importar solo los módulos que necesitas para evitar la sobrecarga de código y minimizar las posibles colisiones de nombres.\n",
        "\n",
        "\n",
        "**\"Los errores no deben pasar en silencio\":** Es importante atrapar y manejar adecuadamente los errores en tu código Python. No ignores los errores y excepciones, ya que pueden causar problemas difíciles de depurar en el futuro.\n",
        "\n",
        "\n",
        "**\"Escribe pruebas\":** Las pruebas son una parte importante del desarrollo de software. Escribe pruebas unitarias y pruebas de integración para asegurarte de que tu código funcione como se espera y para evitar regresiones en el futuro.\n",
        "\n",
        "\n",
        "**\"Sigue los estándares de estilo\":** Python tiene guías de estilo de codificación, como PEP 8, que definen la forma en que debe escribirse el código Python. Sigue estos estándares de estilo para que tu código sea consistente y fácil de leer.\n",
        "\n",
        "\n",
        "**\"Hazlo simple\":** Python fomenta la simplicidad y la claridad en el código. Evita la complejidad innecesaria y busca soluciones simples y directas para los problemas.\n",
        "\n",
        "\n",
        "**\"Programa con objetos\":** Python es un lenguaje de programación orientado a objetos, por lo que puedes aprovechar las ventajas de la programación orientada a objetos al diseñar tus programas. Utiliza clases y objetos para organizar y estructurar tu código de manera eficiente.\n",
        "\n",
        "\n",
        "**\"Lee el código fuente\":** Python es un lenguaje de código abierto, lo que significa que su código fuente está disponible para su lectura. Leer el código fuente de Python es una excelente manera de aprender y comprender cómo funcionan las cosas en el lenguaje y en su biblioteca estándar.\n",
        "\n",
        "\n",
        "**\"¡Experimenta en la consola interactiva!\":** Python viene con una consola interactiva que te permite probar rápidamente código y experimentar con ideas. Utiliza la consola interactiva para explorar el lenguaje y su biblioteca, y para probar pequeños fragmentos de código antes de incorporarlos en tus programas.\n",
        "\n",
        "\n",
        "**\"Módulos:** una unidad de funcionalidad\": Utiliza módulos en Python para organizar tu código en unidades lógicas de funcionalidad. Cada módulo debe tener una responsabilidad clara y hacer una cosa bien. Esto facilita la reutilización y el mantenimiento del código.\n",
        "\n",
        "\n",
        "**\"Documenta tu código\":** Escribe comentarios y documentación clara en tu código para explicar cómo funciona y cómo se usa. Una buena documentación es valiosa para ti y para otros desarrolladores que puedan trabajar en tu código en el futuro.\n",
        "\n",
        "\n",
        "**\"Comunidad importa\":** Python tiene una comunidad activa y amigable de desarrolladores. Participa en la comunidad, haz preguntas, comparte conocimientos y aprende de otros desarrolladores. La comunidad de Python es una fuente invaluable de recursos y apoyo.\n",
        "\n",
        "\n",
        "**Entorno de desarrollo:**  \n",
        "Python posee un entorno de desarrollo llamado IDLE (Integrated DEvelopment Enviroment o Integrated Development and LEarning Environment).  \n",
        "\n",
        "Para instalar python tienes que entrar en:\n",
        "https://www.python.org/"
      ],
      "metadata": {
        "id": "NOxPPdrDdvA5"
      }
    },
    {
      "cell_type": "markdown",
      "source": [
        "# 1. ¿Qué es un IDE (editor de texto)?"
      ],
      "metadata": {
        "id": "6VMcRnThWQWe"
      }
    },
    {
      "cell_type": "markdown",
      "source": [
        "\n",
        "Definición: Un Entorno de Desarrollo Integrado (IDE) es una aplicación que proporciona herramientas completas para desarrolladores de software para escribir, probar y depurar su código. Ejemplos comunes son PyCharm, VSCode y Spyder.\n",
        "Beneficios: Ayuda a aumentar la productividad al integrar varias herramientas de desarrollo en una sola aplicación."
      ],
      "metadata": {
        "id": "q1ANPOoJWMA5"
      }
    },
    {
      "cell_type": "markdown",
      "source": [
        "# 2. ¿Qué es Jupyter Notebook?"
      ],
      "metadata": {
        "id": "fLYRQ-HuW74H"
      }
    },
    {
      "cell_type": "markdown",
      "source": [
        "Definición: Jupyter Notebook es una aplicación web que permite crear y compartir documentos que contienen código en vivo, ecuaciones, visualizaciones y texto narrativo.\n",
        "Usos: Muy útil para la limpieza y transformación de datos, simulación numérica, modelado estadístico, aprendizaje automático, etc.\n",
        "Ejemplo: Demostrar cómo se puede ejecutar código en una celda y mostrar resultados inmediatamente."
      ],
      "metadata": {
        "id": "mTfaWJ8pW7pQ"
      }
    },
    {
      "cell_type": "markdown",
      "source": [
        "# 3. ¿Qué es Google Colab?\n"
      ],
      "metadata": {
        "id": "SzaOY1CsXB3k"
      }
    },
    {
      "cell_type": "markdown",
      "source": [
        "Definición: Google Colab es un servicio gratuito basado en la nube que permite ejecutar y compartir Jupyter Notebooks sin necesidad de configuración.\n",
        "Ventajas: Acceso a recursos de hardware gratuitos como GPUs y TPUs, y fácil colaboración a través de Google Drive.\n",
        "Ejemplo: Mostrar cómo iniciar un nuevo notebook en Google Colab."
      ],
      "metadata": {
        "id": "pgAxGooqYz6L"
      }
    },
    {
      "cell_type": "markdown",
      "source": [
        "# 4. ¿Qué es un prompt? ¿Qué es una consola?"
      ],
      "metadata": {
        "id": "1-daAJDAYzsv"
      }
    },
    {
      "cell_type": "markdown",
      "source": [
        "Prompt: Es una señal o indicador en una interfaz de línea de comandos que espera que el usuario ingrese una instrucción.\n",
        "Consola: También conocida como terminal, es una interfaz que permite a los usuarios interactuar con el sistema operativo mediante comandos de texto.\n",
        "Ejemplo: Mostrar la consola en Jupyter Notebook y en Google Colab.\n",
        "\n"
      ],
      "metadata": {
        "id": "Mk-0O-O6YzoX"
      }
    },
    {
      "cell_type": "markdown",
      "source": [
        "# 5. ¿Qué es print? (Cómo imprimir un texto)"
      ],
      "metadata": {
        "id": "-bh0hwKzYzld"
      }
    },
    {
      "cell_type": "code",
      "source": [
        "print(\"Hola mundo\")"
      ],
      "metadata": {
        "colab": {
          "base_uri": "https://localhost:8080/"
        },
        "id": "pd91antbZQI8",
        "outputId": "a585d293-396c-4a41-d831-4766e3a18d87"
      },
      "execution_count": 1,
      "outputs": [
        {
          "output_type": "stream",
          "name": "stdout",
          "text": [
            "Hola mundo\n"
          ]
        }
      ]
    },
    {
      "cell_type": "markdown",
      "source": [
        "Para documentacion en python ir a: https://www.python.org/doc/"
      ],
      "metadata": {
        "id": "8lkFAMl7ayr2"
      }
    },
    {
      "cell_type": "code",
      "source": [
        "#Imprimiendo más de una linea\n",
        "\n",
        "print('Hola mundo')\n",
        "print('asi mostramos dos lineas')"
      ],
      "metadata": {
        "id": "xzayw1nnabmV"
      },
      "execution_count": null,
      "outputs": []
    },
    {
      "cell_type": "code",
      "source": [
        "#utilizando el argumento sep='' en la función print\n",
        "\n",
        "print(1,2,3,4,5)\n",
        "print(1,2,3,4,5,sep=',')\n",
        "print(1,2,3,4,5,sep='_')"
      ],
      "metadata": {
        "id": "6hGfDmG3adEW"
      },
      "execution_count": null,
      "outputs": []
    },
    {
      "cell_type": "code",
      "source": [
        "#Utilizando argumento end='' en la función print\n",
        "print(1,2,3,4,5,sep=',',end='.')"
      ],
      "metadata": {
        "id": "vcopR9fnapkn"
      },
      "execution_count": null,
      "outputs": []
    },
    {
      "cell_type": "markdown",
      "source": [
        "# 6. Lectura información introducida por pantalla y utilización de variables"
      ],
      "metadata": {
        "id": "gn2DSMYVbJ2Q"
      }
    },
    {
      "cell_type": "code",
      "source": [
        "#Variables\n",
        "Nombre = 'Felipe'\n",
        "Edad = 45\n",
        "Mi_profesion = 'Médico'\n",
        "\n",
        "nombre, Edad, Mi_profesion"
      ],
      "metadata": {
        "id": "ZKPQAwYlbRI_"
      },
      "execution_count": null,
      "outputs": []
    },
    {
      "cell_type": "markdown",
      "source": [
        "# 7. Aprendiendo a usar la función input() para introducir información."
      ],
      "metadata": {
        "id": "2ZBqrmWIb0Ft"
      }
    },
    {
      "cell_type": "code",
      "source": [
        "\n",
        "#En este ejemplo utilizamos la variable 'nombre' para almacenar el nombre que introduce por teclado, el usuario.\n",
        "print('Bienvenido al mundo Python, ¿cómo te llamas?')\n",
        "nombre = input()\n",
        "print('Me alegra que hayas decidido aprender Data Science para sanar pacientes,',nombre)"
      ],
      "metadata": {
        "id": "UhvJXLnZbwg_"
      },
      "execution_count": null,
      "outputs": []
    },
    {
      "cell_type": "markdown",
      "source": [
        "# Pildora de Salud:"
      ],
      "metadata": {
        "id": "IOATStsWb5fx"
      }
    },
    {
      "cell_type": "code",
      "source": [
        "from IPython.display import Image\n",
        "\n",
        "# Mostrar la imagen\n",
        "Image(url=\"https://tse1.mm.bing.net/th?id=OIP.sn2Ej_ShMBB_3ksh6Pl8TQHaEb&pid=Api&P=0&h=180\")\n"
      ],
      "metadata": {
        "colab": {
          "base_uri": "https://localhost:8080/",
          "height": 201
        },
        "id": "gPJmDDzMc5FU",
        "outputId": "2304d113-9c51-432a-b124-ac3b96269061"
      },
      "execution_count": 4,
      "outputs": [
        {
          "output_type": "execute_result",
          "data": {
            "text/html": [
              "<img src=\"https://tse1.mm.bing.net/th?id=OIP.sn2Ej_ShMBB_3ksh6Pl8TQHaEb&pid=Api&P=0&h=180\"/>"
            ],
            "text/plain": [
              "<IPython.core.display.Image object>"
            ]
          },
          "metadata": {},
          "execution_count": 4
        }
      ]
    },
    {
      "cell_type": "markdown",
      "source": [],
      "metadata": {
        "id": "b5qzKRd9b5cb"
      }
    },
    {
      "cell_type": "markdown",
      "source": [],
      "metadata": {
        "id": "E9W3CcviaQqu"
      }
    },
    {
      "cell_type": "markdown",
      "source": [],
      "metadata": {
        "id": "qRZt-xOtYziV"
      }
    },
    {
      "cell_type": "markdown",
      "source": [],
      "metadata": {
        "id": "gqU_gIQQYzfb"
      }
    },
    {
      "cell_type": "markdown",
      "source": [],
      "metadata": {
        "id": "6gfY-_XYYzZ7"
      }
    }
  ]
}