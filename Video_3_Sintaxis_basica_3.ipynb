{
  "nbformat": 4,
  "nbformat_minor": 0,
  "metadata": {
    "colab": {
      "provenance": [],
      "authorship_tag": "ABX9TyPpWgRogRTo2J8Zey/Q9NgN",
      "include_colab_link": true
    },
    "kernelspec": {
      "name": "python3",
      "display_name": "Python 3"
    },
    "language_info": {
      "name": "python"
    }
  },
  "cells": [
    {
      "cell_type": "markdown",
      "metadata": {
        "id": "view-in-github",
        "colab_type": "text"
      },
      "source": [
        "<a href=\"https://colab.research.google.com/github/DOCOJEDA/Curso-1-Inteligencia-Artificial-en-Salud/blob/main/Video_3_Sintaxis_basica_3.ipynb\" target=\"_parent\"><img src=\"https://colab.research.google.com/assets/colab-badge.svg\" alt=\"Open In Colab\"/></a>"
      ]
    },
    {
      "cell_type": "markdown",
      "source": [
        "# VARIABLES Y TIPOS DE DATOS"
      ],
      "metadata": {
        "id": "ZC0l_P3L4KBu"
      }
    },
    {
      "cell_type": "markdown",
      "source": [
        "# 1. ¿Qué es una Variable?"
      ],
      "metadata": {
        "id": "V_3hSL044J-r"
      }
    },
    {
      "cell_type": "markdown",
      "source": [
        "\n",
        "En programación, una variable es un contenedor para almacenar datos. Piensa en una variable como una etiqueta que puedes asignar a un valor. Las variables te permiten guardar, manipular y acceder a datos de manera eficiente. En Python, la declaración de una variable es simple y no requiere especificar su tipo de dato, ya que Python es un lenguaje de tipado dinámico."
      ],
      "metadata": {
        "id": "ABTy67zE4Jep"
      }
    },
    {
      "cell_type": "markdown",
      "source": [
        "# Tipos de variables"
      ],
      "metadata": {
        "id": "JWCSFDJf9nke"
      }
    },
    {
      "cell_type": "code",
      "source": [
        "import pandas as pd\n",
        "\n",
        "# Crear un diccionario con los datos de la tabla\n",
        "data = {\n",
        "    \"Nombre\": [\"boolean\", \"char\", \"byte\", \"short\", \"int\", \"long\", \"float\", \"double\"],\n",
        "    \"Tipo\": [\"Lógico\", \"Carácter simple\", \"Entero\", \"Entero\", \"Entero\", \"Entero\", \"Numérico con coma flotante\", \"Numérico con coma flotante\"],\n",
        "    \"Byte\": [1, 2, 1, 2, 4, 8, 4, 8],\n",
        "    \"Rango de valores\": [\n",
        "        \"true ó false\",\n",
        "        \"Un caracter\",\n",
        "        \"-128 a 127\",\n",
        "        \"-32768 a 32767\",\n",
        "        \"-2.147.483.648 a 2.147.483.649\",\n",
        "        \"-9.223.372.036.854.775.808 a 9.223.372.036.854.775.808\",\n",
        "        \"34x10^-38 a 34x10^38\",\n",
        "        \"1.8x10^-308 a 1.8x10^308\"\n",
        "    ]\n",
        "}\n",
        "\n",
        "# Crear un DataFrame a partir del diccionario\n",
        "df = pd.DataFrame(data)\n",
        "\n",
        "# Mostrar el DataFrame sin la columna del índice\n",
        "df.style.hide(axis='index')\n",
        "\n"
      ],
      "metadata": {
        "colab": {
          "base_uri": "https://localhost:8080/",
          "height": 300
        },
        "id": "WRWylnx58hGS",
        "outputId": "8f6711d4-4150-4689-8839-2dae3bf5cd5f"
      },
      "execution_count": null,
      "outputs": [
        {
          "output_type": "execute_result",
          "data": {
            "text/plain": [
              "<pandas.io.formats.style.Styler at 0x7e6c980dcc40>"
            ],
            "text/html": [
              "<style type=\"text/css\">\n",
              "</style>\n",
              "<table id=\"T_eb82b\" class=\"dataframe\">\n",
              "  <thead>\n",
              "    <tr>\n",
              "      <th id=\"T_eb82b_level0_col0\" class=\"col_heading level0 col0\" >Nombre</th>\n",
              "      <th id=\"T_eb82b_level0_col1\" class=\"col_heading level0 col1\" >Tipo</th>\n",
              "      <th id=\"T_eb82b_level0_col2\" class=\"col_heading level0 col2\" >Byte</th>\n",
              "      <th id=\"T_eb82b_level0_col3\" class=\"col_heading level0 col3\" >Rango de valores</th>\n",
              "    </tr>\n",
              "  </thead>\n",
              "  <tbody>\n",
              "    <tr>\n",
              "      <td id=\"T_eb82b_row0_col0\" class=\"data row0 col0\" >boolean</td>\n",
              "      <td id=\"T_eb82b_row0_col1\" class=\"data row0 col1\" >Lógico</td>\n",
              "      <td id=\"T_eb82b_row0_col2\" class=\"data row0 col2\" >1</td>\n",
              "      <td id=\"T_eb82b_row0_col3\" class=\"data row0 col3\" >true ó false</td>\n",
              "    </tr>\n",
              "    <tr>\n",
              "      <td id=\"T_eb82b_row1_col0\" class=\"data row1 col0\" >char</td>\n",
              "      <td id=\"T_eb82b_row1_col1\" class=\"data row1 col1\" >Carácter simple</td>\n",
              "      <td id=\"T_eb82b_row1_col2\" class=\"data row1 col2\" >2</td>\n",
              "      <td id=\"T_eb82b_row1_col3\" class=\"data row1 col3\" >Un caracter</td>\n",
              "    </tr>\n",
              "    <tr>\n",
              "      <td id=\"T_eb82b_row2_col0\" class=\"data row2 col0\" >byte</td>\n",
              "      <td id=\"T_eb82b_row2_col1\" class=\"data row2 col1\" >Entero</td>\n",
              "      <td id=\"T_eb82b_row2_col2\" class=\"data row2 col2\" >1</td>\n",
              "      <td id=\"T_eb82b_row2_col3\" class=\"data row2 col3\" >-128 a 127</td>\n",
              "    </tr>\n",
              "    <tr>\n",
              "      <td id=\"T_eb82b_row3_col0\" class=\"data row3 col0\" >short</td>\n",
              "      <td id=\"T_eb82b_row3_col1\" class=\"data row3 col1\" >Entero</td>\n",
              "      <td id=\"T_eb82b_row3_col2\" class=\"data row3 col2\" >2</td>\n",
              "      <td id=\"T_eb82b_row3_col3\" class=\"data row3 col3\" >-32768 a 32767</td>\n",
              "    </tr>\n",
              "    <tr>\n",
              "      <td id=\"T_eb82b_row4_col0\" class=\"data row4 col0\" >int</td>\n",
              "      <td id=\"T_eb82b_row4_col1\" class=\"data row4 col1\" >Entero</td>\n",
              "      <td id=\"T_eb82b_row4_col2\" class=\"data row4 col2\" >4</td>\n",
              "      <td id=\"T_eb82b_row4_col3\" class=\"data row4 col3\" >-2.147.483.648 a 2.147.483.649</td>\n",
              "    </tr>\n",
              "    <tr>\n",
              "      <td id=\"T_eb82b_row5_col0\" class=\"data row5 col0\" >long</td>\n",
              "      <td id=\"T_eb82b_row5_col1\" class=\"data row5 col1\" >Entero</td>\n",
              "      <td id=\"T_eb82b_row5_col2\" class=\"data row5 col2\" >8</td>\n",
              "      <td id=\"T_eb82b_row5_col3\" class=\"data row5 col3\" >-9.223.372.036.854.775.808 a 9.223.372.036.854.775.808</td>\n",
              "    </tr>\n",
              "    <tr>\n",
              "      <td id=\"T_eb82b_row6_col0\" class=\"data row6 col0\" >float</td>\n",
              "      <td id=\"T_eb82b_row6_col1\" class=\"data row6 col1\" >Numérico con coma flotante</td>\n",
              "      <td id=\"T_eb82b_row6_col2\" class=\"data row6 col2\" >4</td>\n",
              "      <td id=\"T_eb82b_row6_col3\" class=\"data row6 col3\" >34x10^-38 a 34x10^38</td>\n",
              "    </tr>\n",
              "    <tr>\n",
              "      <td id=\"T_eb82b_row7_col0\" class=\"data row7 col0\" >double</td>\n",
              "      <td id=\"T_eb82b_row7_col1\" class=\"data row7 col1\" >Numérico con coma flotante</td>\n",
              "      <td id=\"T_eb82b_row7_col2\" class=\"data row7 col2\" >8</td>\n",
              "      <td id=\"T_eb82b_row7_col3\" class=\"data row7 col3\" >1.8x10^-308 a 1.8x10^308</td>\n",
              "    </tr>\n",
              "  </tbody>\n",
              "</table>\n"
            ]
          },
          "metadata": {},
          "execution_count": 5
        }
      ]
    },
    {
      "cell_type": "markdown",
      "source": [
        "# 2. ¿Qué es un operador?\n",
        "\n"
      ],
      "metadata": {
        "id": "D7Gfr1xO76VD"
      }
    },
    {
      "cell_type": "markdown",
      "source": [
        "Un operador es un símbolo o conjunto de símbolos que indica una operación a realizar entre uno o más operandos. Los operandos son los valores sobre los cuales el operador actúa. En términos simples, los operadores se utilizan para manipular datos y variables en diferentes maneras dentro de un programa.\n",
        "\n",
        "Así un operador es un símbolo que le dice al compilador o intérprete qué operación matemática, lógica o de manipulación de datos debe realizarse. Los operadores se utilizan en expresiones para realizar cálculos, comparaciones, asignaciones y más.\n",
        "\n",
        "\n",
        "Ejemplo:\n",
        "En la expresión matemática 5 + 3, el operador + indica que se debe sumar 5 y 3.\n",
        "\n",
        "Características de los Operadores:\n",
        "Unarios: Operadores que actúan sobre un solo operando. Ejemplo: -x (negación).\n",
        "Binarios: Operadores que actúan sobre dos operandos. Ejemplo: x + y (suma).\n",
        "Ternarios: Operadores que actúan sobre tres operandos. Ejemplo en Python: x if condition else y.\n",
        "\n",
        "Tipos Comunes de Operadores:\n",
        "\n",
        "-Aritméticos: Realizan operaciones matemáticas básicas como suma, resta, multiplicación, etc.\n",
        "\n",
        "-De Comparación: Compara dos valores y devuelve un valor booleano (True o False).\n",
        "\n",
        "-Lógicos: Realizan operaciones lógicas y devuelven un valor booleano.\n",
        "De Asignación: Asignan valores a las variables.\n",
        "\n",
        "-Especiales: Operadores que tienen funcionalidades específicas como identidad y pertenencia.\n",
        "\n",
        "\n",
        "Importancia de los Operadores:\n",
        "Los operadores son fundamentales en la programación ya que permiten realizar operaciones esenciales para la manipulación de datos, la toma de decisiones, y la ejecución de cálculos y lógica en los programas. Sin operadores, sería imposible llevar a cabo tareas básicas como la aritmética o la evaluación de condiciones."
      ],
      "metadata": {
        "id": "eRYlQ6dr-OeY"
      }
    },
    {
      "cell_type": "markdown",
      "source": [
        "# Tipos de variables"
      ],
      "metadata": {
        "id": "CGJaNrbt_0PO"
      }
    },
    {
      "cell_type": "markdown",
      "source": [
        "En Python, los operadores se pueden clasificar en varias categorías según su funcionalidad. Aquí te presento las principales categorías de operadores en Python:\n",
        "\n",
        "### 1. Operadores Aritméticos\n",
        "Estos operadores se utilizan para realizar operaciones matemáticas básicas.\n",
        "\n",
        "- **Suma (`+`)**: Adición de dos operandos.\n",
        "- **Resta (`-`)**: Resta de dos operandos.\n",
        "- **Multiplicación (`*`)**: Multiplicación de dos operandos.\n",
        "- **División (`/`)**: División de dos operandos.\n",
        "- **Módulo (`%`)**: Resto de la división de dos operandos.\n",
        "- **Exponente (`**`)**: Potencia de un número.\n",
        "- **División entera (`//`)**: División que redondea hacia abajo al número entero más cercano.\n",
        "\n",
        "### 2. Operadores de Comparación\n",
        "Estos operadores se utilizan para comparar dos valores.\n",
        "\n",
        "- **Igual a (`==`)**: Verifica si los valores de dos operandos son iguales.\n",
        "- **Diferente de (`!=`)**: Verifica si los valores de dos operandos son diferentes.\n",
        "- **Mayor que (`>`)**: Verifica si el valor del operando izquierdo es mayor que el del derecho.\n",
        "- **Menor que (`<`)**: Verifica si el valor del operando izquierdo es menor que el del derecho.\n",
        "- **Mayor o igual que (`>=`)**: Verifica si el valor del operando izquierdo es mayor o igual que el del derecho.\n",
        "- **Menor o igual que (`<=`)**: Verifica si el valor del operando izquierdo es menor o igual que el del derecho.\n",
        "\n",
        "### 3. Operadores Lógicos\n",
        "Estos operadores se utilizan para realizar operaciones lógicas.\n",
        "\n",
        "- **AND (`and`)**: Devuelve `True` si ambos operandos son `True`.\n",
        "- **OR (`or`)**: Devuelve `True` si al menos uno de los operandos es `True`.\n",
        "- **NOT (`not`)**: Invierte el valor lógico del operando.\n",
        "\n",
        "### 4. Operadores de Asignación\n",
        "Estos operadores se utilizan para asignar valores a las variables.\n",
        "\n",
        "- **Asignación (`=`)**: Asigna el valor del operando derecho al operando izquierdo.\n",
        "- **Asignación suma (`+=`)**: Suma el operando derecho al operando izquierdo y asigna el resultado al operando izquierdo.\n",
        "- **Asignación resta (`-=`)**: Resta el operando derecho al operando izquierdo y asigna el resultado al operando izquierdo.\n",
        "- **Asignación multiplicación (`*=`)**: Multiplica el operando derecho al operando izquierdo y asigna el resultado al operando izquierdo.\n",
        "- **Asignación división (`/=`)**: Divide el operando derecho al operando izquierdo y asigna el resultado al operando izquierdo.\n",
        "- **Asignación módulo (`%=`)**: Calcula el módulo usando el operando derecho y el operando izquierdo y asigna el resultado al operando izquierdo.\n",
        "- **Asignación exponente (`**=`)**: Calcula la potencia usando el operando derecho y el operando izquierdo y asigna el resultado al operando izquierdo.\n",
        "- **Asignación división entera (`//=`)**: Realiza la división entera usando el operando derecho y el operando izquierdo y asigna el resultado al operando izquierdo.\n",
        "\n",
        "### 5. Operadores Especiales\n",
        "Estos operadores tienen funcionalidades específicas y se utilizan en contextos particulares.\n",
        "\n",
        "- **Identidad (`is`, `is not`)**: Verifica si dos referencias (variables) apuntan al mismo objeto.\n",
        "- **Pertenencia (`in`, `not in`)**: Verifica si un valor o variable se encuentra dentro de una secuencia (como una lista, tupla, cadena, etc.).\n",
        "\n",
        "Estos son los principales tipos de operadores en Python. Si tienes alguna otra pregunta o necesitas más detalles sobre alguno de ellos, no dudes en decírmelo."
      ],
      "metadata": {
        "id": "5Xn3Vr43BwOI"
      }
    },
    {
      "cell_type": "markdown",
      "source": [
        "# Ejemplos de operadores aritméticos"
      ],
      "metadata": {
        "id": "YDAqjayaB8YN"
      }
    },
    {
      "cell_type": "markdown",
      "source": [
        "1. **Suma (`+`)**\n",
        "   ```python\n",
        "   # Sumar dos números\n",
        "   a = 10\n",
        "   b = 5\n",
        "   suma = a + b\n",
        "   print(\"Suma:\", suma)  # Output: Suma: 15\n",
        "   ```\n",
        "\n",
        "2. **Resta (`-`)**\n",
        "   ```python\n",
        "   # Restar dos números\n",
        "   a = 10\n",
        "   b = 5\n",
        "   resta = a - b\n",
        "   print(\"Resta:\", resta)  # Output: Resta: 5\n",
        "   ```\n",
        "\n",
        "3. **Multiplicación (`*`)**\n",
        "   ```python\n",
        "   # Multiplicar dos números\n",
        "   a = 10\n",
        "   b = 5\n",
        "   multiplicacion = a * b\n",
        "   print(\"Multiplicación:\", multiplicacion)  # Output: Multiplicación: 50\n",
        "   ```\n",
        "\n",
        "4. **División (`/`)**\n",
        "   ```python\n",
        "   # Dividir dos números\n",
        "   a = 10\n",
        "   b = 5\n",
        "   division = a / b\n",
        "   print(\"División:\", division)  # Output: División: 2.0\n",
        "   ```\n",
        "\n",
        "5. **Módulo (`%`)**\n",
        "   ```python\n",
        "   # Obtener el resto de la división de dos números\n",
        "   a = 10\n",
        "   b = 3\n",
        "   modulo = a % b\n",
        "   print(\"Módulo:\", modulo)  # Output: Módulo: 1\n",
        "   ```\n",
        "\n",
        "6. **Exponente (`**`)**\n",
        "   ```python\n",
        "   # Elevar un número a la potencia de otro\n",
        "   base = 2\n",
        "   exponente = 3\n",
        "   potencia = base ** exponente\n",
        "   print(\"Exponente:\", potencia)  # Output: Exponente: 8\n",
        "   ```\n",
        "\n",
        "7. **División entera (`//`)**\n",
        "   ```python\n",
        "   # Realizar una división entera (división truncada hacia abajo)\n",
        "   a = 10\n",
        "   b = 3\n",
        "   division_entera = a // b\n",
        "   print(\"División entera:\", division_entera)  # Output: División entera: 3\n",
        "   ```\n"
      ],
      "metadata": {
        "id": "xfvu2vEyBx5D"
      }
    },
    {
      "cell_type": "markdown",
      "source": [
        "# Ejemplos de Operadores de Comparación"
      ],
      "metadata": {
        "id": "7tGtIHeyD9uG"
      }
    },
    {
      "cell_type": "markdown",
      "source": [
        "1. **Igual a (`==`)**\n",
        "   ```python\n",
        "   # Verificar si dos valores son iguales\n",
        "   a = 10\n",
        "   b = 5\n",
        "   es_igual = (a == b)\n",
        "   print(\"¿a es igual a b?\", es_igual)  # Output: ¿a es igual a b? False\n",
        "   ```\n",
        "\n",
        "2. **Diferente de (`!=`)**\n",
        "   ```python\n",
        "   # Verificar si dos valores son diferentes\n",
        "   a = 10\n",
        "   b = 5\n",
        "   es_diferente = (a != b)\n",
        "   print(\"¿a es diferente de b?\", es_diferente)  # Output: ¿a es diferente de b? True\n",
        "   ```\n",
        "\n",
        "3. **Mayor que (`>`)**\n",
        "   ```python\n",
        "   # Verificar si un valor es mayor que otro\n",
        "   a = 10\n",
        "   b = 5\n",
        "   es_mayor = (a > b)\n",
        "   print(\"¿a es mayor que b?\", es_mayor)  # Output: ¿a es mayor que b? True\n",
        "   ```\n",
        "\n",
        "4. **Menor que (`<`)**\n",
        "   ```python\n",
        "   # Verificar si un valor es menor que otro\n",
        "   a = 10\n",
        "   b = 5\n",
        "   es_menor = (a < b)\n",
        "   print(\"¿a es menor que b?\", es_menor)  # Output: ¿a es menor que b? False\n",
        "   ```\n",
        "\n",
        "5. **Mayor o igual que (`>=`)**\n",
        "   ```python\n",
        "   # Verificar si un valor es mayor o igual que otro\n",
        "   a = 10\n",
        "   b = 5\n",
        "   es_mayor_o_igual = (a >= b)\n",
        "   print(\"¿a es mayor o igual que b?\", es_mayor_o_igual)  # Output: ¿a es mayor o igual que b? True\n",
        "   ```\n",
        "\n",
        "6. **Menor o igual que (`<=`)**\n",
        "   ```python\n",
        "   # Verificar si un valor es menor o igual que otro\n",
        "   a = 10\n",
        "   b = 10\n",
        "   es_menor_o_igual = (a <= b)\n",
        "   print(\"¿a es menor o igual que b?\", es_menor_o_igual)  # Output: ¿a es menor o igual que b? True\n",
        "   ```"
      ],
      "metadata": {
        "id": "uVWs7D-9EekT"
      }
    },
    {
      "cell_type": "markdown",
      "source": [
        "3. Ejemplos de Operadores Lógicos"
      ],
      "metadata": {
        "id": "MOQgOf22Hhzx"
      }
    },
    {
      "cell_type": "markdown",
      "source": [
        "1. **AND (`and`)**\n",
        "   ```python\n",
        "   # Verificar si ambas condiciones son verdaderas\n",
        "   a = True\n",
        "   b = False\n",
        "   resultado = a and b\n",
        "   print(\"a and b:\", resultado)  # Output: a and b: False\n",
        "   ```\n",
        "\n",
        "2. **OR (`or`)**\n",
        "   ```python\n",
        "   # Verificar si al menos una de las condiciones es verdadera\n",
        "   a = True\n",
        "   b = False\n",
        "   resultado = a or b\n",
        "   print(\"a or b:\", resultado)  # Output: a or b: True\n",
        "   ```\n",
        "\n",
        "3. **NOT (`not`)**\n",
        "   ```python\n",
        "   # Negar la condición\n",
        "   a = True\n",
        "   resultado = not a\n",
        "   print(\"not a:\", resultado)  # Output: not a: False\n",
        "   ```\n",
        "\n",
        "### Ejemplos combinados\n",
        "\n",
        "Ejemplos combinados que muestran cómo se pueden usar los operadores lógicos en condiciones más complejas.\n",
        "\n",
        "#### Ejemplo 1: AND\n",
        "```python\n",
        "# Verificar si ambos números son positivos\n",
        "a = 10\n",
        "b = -5\n",
        "es_positivo_ambos = (a > 0) and (b > 0)\n",
        "print(\"¿Ambos números son positivos?\", es_positivo_ambos)  # Output: ¿Ambos números son positivos? False\n",
        "```\n",
        "\n",
        "#### Ejemplo 2: OR\n",
        "```python\n",
        "# Verificar si al menos uno de los números es positivo\n",
        "a = 10\n",
        "b = -5\n",
        "es_positivo_alguno = (a > 0) or (b > 0)\n",
        "print(\"¿Al menos uno de los números es positivo?\", es_positivo_alguno)  # Output: ¿Al menos uno de los números es positivo? True\n",
        "```\n",
        "\n",
        "#### Ejemplo 3: NOT\n",
        "```python\n",
        "# Verificar si un número no es positivo\n",
        "a = -10\n",
        "es_no_positivo = not (a > 0)\n",
        "print(\"¿El número no es positivo?\", es_no_positivo)  # Output: ¿El número no es positivo? True\n",
        "```\n",
        "\n",
        "#### Ejemplo 4: Combinación de AND, OR y NOT\n",
        "```python\n",
        "# Verificar condiciones combinadas\n",
        "a = 10\n",
        "b = -5\n",
        "c = 0\n",
        "resultado = (a > 0) and (b < 0) or (not (c == 0))\n",
        "print(\"Resultado de la combinación lógica:\", resultado)  # Output: Resultado de la combinación lógica: True\n",
        "```"
      ],
      "metadata": {
        "id": "Q8Ryg3zkQ6eq"
      }
    },
    {
      "cell_type": "markdown",
      "source": [
        "4."
      ],
      "metadata": {
        "id": "i16parkIHsET"
      }
    },
    {
      "cell_type": "markdown",
      "source": [],
      "metadata": {
        "id": "dKIKc5kYHXj1"
      }
    },
    {
      "cell_type": "markdown",
      "source": [],
      "metadata": {
        "id": "uxF2iUpRDxoP"
      }
    }
  ]
}